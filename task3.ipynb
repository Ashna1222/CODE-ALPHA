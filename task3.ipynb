{
 "cells": [
  {
   "cell_type": "code",
   "execution_count": 2,
   "metadata": {},
   "outputs": [
    {
     "name": "stdout",
     "output_type": "stream",
     "text": [
      "Hello! I am your friendly chatbot. Type 'quit' to exit.\n",
      "None\n",
      "Why don't scientists trust atoms? Because they make up everything!\n",
      "Goodbye! It was nice talking to you. Have a great day!\n"
     ]
    }
   ],
   "source": [
    "import nltk\n",
    "from nltk.chat.util import Chat, reflections\n",
    "\n",
    "# Define a set of patterns and responses\n",
    "pairs = [\n",
    "    [\n",
    "        r\"my name is (.*)\",\n",
    "        [\"Hello %1, how can I help you today?\",]\n",
    "    ],\n",
    "    [\n",
    "        r\"hi|hello|hey\",\n",
    "        [\"Hello!\", \"Hi there!\", \"Hey! How can I assist you?\"]\n",
    "    ],\n",
    "    [\n",
    "        r\"what is your name ?\",\n",
    "        [\"I am a chatbot created by ChatGPT. You can call me Assistant!\",]\n",
    "    ],\n",
    "    [\n",
    "        r\"how are you ?\",\n",
    "        [\"I'm just a program, but I'm here to help you!\",]\n",
    "    ],\n",
    "    [\n",
    "        r\"what can you do ?\",\n",
    "        [\"I can chat with you, provide information, answer questions, and much more!\"]\n",
    "    ],\n",
    "    [\n",
    "        r\"tell me a joke\", \n",
    "        [\"Why don't scientists trust atoms? Because they make up everything!\"]\n",
    "        ],\n",
    "\n",
    "    [\n",
    "        r\"quit\",\n",
    "        [\"Goodbye! It was nice talking to you. Have a great day!\"]\n",
    "    ],\n",
    "    # Add more patterns and responses as needed\n",
    "]\n",
    "\n",
    "# Create a chatbot instance\n",
    "def chatbot():\n",
    "    print(\"Hello! I am your friendly chatbot. Type 'quit' to exit.\")\n",
    "    chat = Chat(pairs, reflections)\n",
    "    chat.converse()\n",
    "\n",
    "# Start the chatbot\n",
    "if __name__ == \"__main__\":\n",
    "    chatbot()"
   ]
  },
  {
   "cell_type": "code",
   "execution_count": null,
   "metadata": {},
   "outputs": [],
   "source": []
  }
 ],
 "metadata": {
  "kernelspec": {
   "display_name": "Python 3",
   "language": "python",
   "name": "python3"
  },
  "language_info": {
   "codemirror_mode": {
    "name": "ipython",
    "version": 3
   },
   "file_extension": ".py",
   "mimetype": "text/x-python",
   "name": "python",
   "nbconvert_exporter": "python",
   "pygments_lexer": "ipython3",
   "version": "3.12.5"
  }
 },
 "nbformat": 4,
 "nbformat_minor": 2
}
